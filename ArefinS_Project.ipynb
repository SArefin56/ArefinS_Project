{
 "cells": [
  {
   "cell_type": "code",
   "execution_count": 131,
   "id": "dac258f0-9caa-42e9-a069-21727840076f",
   "metadata": {},
   "outputs": [],
   "source": [
    "import sqlite3 "
   ]
  },
  {
   "cell_type": "code",
   "execution_count": 133,
   "id": "60a54486-6b33-47ba-ad38-804fc7ae0432",
   "metadata": {},
   "outputs": [],
   "source": [
    "conn = sqlite3.connect(\"heartbound_challenge.db\") #Creates a new database, we don't have an existing one to import.\n",
    "cur = conn.cursor() #We will use this function to interact with the database created."
   ]
  },
  {
   "cell_type": "code",
   "execution_count": 135,
   "id": "0c54fbd9-a3ef-405c-87f5-b109f7107101",
   "metadata": {},
   "outputs": [],
   "source": [
    "class GameManager: \n",
    "    def __init__(self, conn, cur):\n",
    "        self.db = conn\n",
    "        self.cur = cur #Game Manager class is now connected to our database and can modify the data(update/delete) by running sql queries.\n",
    "        "
   ]
  },
  {
   "cell_type": "code",
   "execution_count": 137,
   "id": "94142be3-d891-4950-960e-c6cb75e02995",
   "metadata": {},
   "outputs": [],
   "source": [
    "######Create a 'users' table\n",
    "cur.execute(\"\"\"\n",
    "CREATE TABLE IF NOT EXISTS users (\n",
    "    user_id INTEGER PRIMARY KEY,\n",
    "    name TEXT,\n",
    "    category TEXT,\n",
    "    gender TEXT,\n",
    "    health INTEGER\n",
    ")\n",
    "\"\"\")\n",
    "\n",
    "########Creates a 'sup_power' table. In our scenario, players can activate the super powers they gained from enemies by defeating them in battles but\n",
    "#####there are consequences.\n",
    "\n",
    "cur.execute(\"\"\"\n",
    "CREATE TABLE IF NOT EXISTS sup_power (\n",
    "    power_id INTEGER PRIMARY KEY,\n",
    "    power_name TEXT,\n",
    "    availability INTEGER,\n",
    "    user_id INTEGER,\n",
    "    FOREIGN KEY(user_id) REFERENCES users(user_id)\n",
    ")\n",
    "\"\"\")\n",
    "\n",
    "##########Creates a 'game_transaction' table\n",
    "cur.execute(\"\"\"\n",
    "CREATE TABLE IF NOT EXISTS game_transaction (\n",
    "    battle_id INTEGER PRIMARY KEY,\n",
    "    user_id INTEGER,\n",
    "    opponent TEXT,\n",
    "    power_deployed TEXT,\n",
    "    power_gained TEXT,\n",
    "    power_instock INTEGER,          \n",
    "    consequences TEXT,\n",
    "    FOREIGN KEY(user_id) REFERENCES users(user_id)\n",
    ")\n",
    "\"\"\")\n",
    "conn.commit()\n",
    "    \n",
    " #This is my basic database schema that shows three tables with fields and the relationship between the tables \n",
    "##using primary and foreign keys. \n",
    "\n"
   ]
  },
  {
   "cell_type": "code",
   "execution_count": 191,
   "id": "3af03c5e-79ca-4148-8895-fccf2f021655",
   "metadata": {},
   "outputs": [],
   "source": [
    "######## Enhanced consequence of borrowing:\n",
    "cur.execute(\"\"\"\n",
    "CREATE TABLE IF NOT EXISTS events (\n",
    "    id INTEGER PRIMARY KEY,\n",
    "    name TEXT,\n",
    "    active INTEGER,\n",
    "    active_rounds INTEGER,          \n",
    "    active_duration INTEGER,\n",
    "    in_penalty INTEGER,\n",
    "    penalty_rounds INTEGER,\n",
    "    max_penalty_rounds INTEGER\n",
    ")\n",
    "\"\"\")\n",
    "conn.commit()\n",
    "\n",
    "## active_rounds = # of rounds the capability been active\n",
    "## active_duration = ideal # of rounds the capability should be active.\n",
    "## penalty_in = penalty started"
   ]
  },
  {
   "cell_type": "code",
   "execution_count": 265,
   "id": "97bb4e24-3376-4780-831e-6743d6aadfce",
   "metadata": {},
   "outputs": [
    {
     "ename": "IndentationError",
     "evalue": "unexpected indent (365780215.py, line 18)",
     "output_type": "error",
     "traceback": [
      "\u001b[1;36m  Cell \u001b[1;32mIn[265], line 18\u001b[1;36m\u001b[0m\n\u001b[1;33m    print(\"User '{name}' added.\")\u001b[0m\n\u001b[1;37m    ^\u001b[0m\n\u001b[1;31mIndentationError\u001b[0m\u001b[1;31m:\u001b[0m unexpected indent\n"
     ]
    }
   ],
   "source": [
    "#########Adding data to the 'users' table:\n",
    "users = [\n",
    "    (11, \"Arefin\", \"User\", \"Male\", 100),\n",
    "    (25, \"Charlotte\", \"User\", \"Female\", 100),\n",
    "    (32, \"Stanley\", \"Enemy\", \"Male\", 50),\n",
    "    (56, \"Robert\", \"Enemy\", \"Male\", 100),\n",
    "    (24, \"Francis\", \"Enemy\", \"Male\", 100),\n",
    "    (19, \"JY\", \"Enemy\", \"Female\", 50),\n",
    "    (27, \"Amy\", \"Enemy\", \"Female\", 50),\n",
    "    (75, \"Cheryl\", \"Enemy\", \"Female\", 50)\n",
    "]\n",
    "cur.execute(\"DELETE FROM users\")\n",
    "conn.commit() #Prevents data being entered twice. \n",
    "\n",
    "cur.executemany(\"INSERT OR IGNORE INTO users (user_id, name, category, gender, health) VALUES (?, ?, ?, ?, ?)\", users)  #Inserting multiple rows of data at once. \n",
    "conn.commit()\n",
    "\n",
    "    print(\"User '{name}' added.\")\n",
    "except sqlite3.IntegrityError: # The Integrity validation technique prevents duplicate data entries or redundancies.\n",
    "    print(\"User ID {user_id} already exists.\")"
   ]
  },
  {
   "cell_type": "code",
   "execution_count": 195,
   "id": "fffac520-f556-44b8-98d6-113118cd66c2",
   "metadata": {},
   "outputs": [
    {
     "name": "stdout",
     "output_type": "stream",
     "text": [
      "(11, 'Arefin', 'User', 'Male', 100)\n",
      "(19, 'JY', 'Enemy', 'Female', 50)\n",
      "(24, 'Francis', 'Enemy', 'Male', 100)\n",
      "(25, 'Charlotte', 'User', 'Female', 100)\n",
      "(27, 'Amy', 'Enemy', 'Female', 50)\n",
      "(32, 'Stanley', 'Enemy', 'Male', 50)\n",
      "(56, 'Robert', 'Enemy', 'Male', 100)\n",
      "(75, 'Cheryl', 'Enemy', 'Female', 50)\n"
     ]
    }
   ],
   "source": [
    "#######Test run:\n",
    "for row in cur.execute(\"SELECT * FROM users\"):\n",
    "    print(row) #Prints all the records from the table 'users'."
   ]
  },
  {
   "cell_type": "code",
   "execution_count": 197,
   "id": "8a26ac78-3e1e-4b75-8f05-e7039b17790f",
   "metadata": {},
   "outputs": [],
   "source": [
    "########### Adding data to the 'sup_power' table:\n",
    "\n",
    "sup_power = [\n",
    "    (42, \"Super Speed\", 1, 32),\n",
    "    (45, \"Super Strength\", 1, 56),\n",
    "    (65, \"Super Durability\", 1, 24),\n",
    "    (50, \"Super Speed\", 1, 19),\n",
    "    (62, \"Super Strength\", 1, 27),\n",
    "    (72, \"Super Durability\", 1, 75)\n",
    "]\n",
    "cur.execute(\"DELETE FROM sup_power\")\n",
    "conn.commit() #Avoid repetitive tuples. \n",
    "\n",
    "cur.executemany(\"INSERT OR IGNORE INTO sup_power (power_id, power_name, availability, user_id) VALUES (?, ?, ?, ?)\", sup_power)\n",
    "conn.commit()"
   ]
  },
  {
   "cell_type": "code",
   "execution_count": 199,
   "id": "a66d1f65-3fd8-4376-b6c3-722cda30c609",
   "metadata": {},
   "outputs": [],
   "source": [
    "##########Adding data to the 'game_transaction' table:\n",
    "game_transaction = [\n",
    "    (1, 11, \"Stanley\", \"Initially none\", \"Super Speed\", 1, \"Using Speed in 3 consecutive rows, leads to a 50% chance for a missed attack\"),\n",
    "    (2, 11, \"Robert\", \"Super Speed\", \"Super Strength\", 1, \"Super speed is active. Using Speed in 3 consecutive rows, leads to a 50% chance for a missed attack\"),\n",
    "    (3, 11, \"Francis\", \"Super Strength\", \"Super Durability\", 1, \"Super Strength is active. Over use results in -20 points from the health of user\")\n",
    "]\n",
    "\n",
    "cur.execute(\"DELETE FROM game_transaction\")\n",
    "conn.commit()\n",
    "\n",
    "cur.executemany(\"INSERT OR IGNORE INTO game_transaction (battle_id, user_id, opponent, power_deployed, power_gained, power_instock, consequences) VALUES (?, ?, ?, ?, ?, ?, ?)\", game_transaction)\n",
    "conn.commit()     \n",
    "\n",
    "###Context: I mentioned in the storyline that our user has to fight battles and win to gain the capabilities of the enemies and strengthen his \n",
    "###capabilities for the upcoming battles. \n",
    "### In the user's battle against Robert, he deployed his power 'super speed' that he won from the first battle, defeating Stanley. Deploying super speed\n",
    "###also comes with its consequence impacting game scenario for example, using the power in 3 consecutive rows can lead to a 50% chance of a missed attack."
   ]
  },
  {
   "cell_type": "code",
   "execution_count": 201,
   "id": "57ee64ae-8bab-405f-ad54-7a4924709660",
   "metadata": {},
   "outputs": [],
   "source": [
    "#######Adding data to the events table\n",
    "events = [\n",
    "    (15, \"Super Speed\", 1, 0, 2, 0, 0, 2),\n",
    "    (30, \"Durability\", 0, 0, 2, 0, 0, 2)\n",
    "]\n",
    "cur.execute(\"DELETE FROM events\")\n",
    "conn.commit()\n",
    "\n",
    "cur.executemany(\"INSERT OR IGNORE INTO events (id, name, active, active_rounds, active_duration, in_penalty, penalty_rounds, max_penalty_rounds) VALUES (?, ?, ?, ?, ?, ?, ?, ?)\", events)\n",
    "conn.commit() #Two sample events data entered to experiment our logic."
   ]
  },
  {
   "cell_type": "code",
   "execution_count": 4,
   "id": "c14af787-c443-40f2-821c-83ba8fd423eb",
   "metadata": {},
   "outputs": [
    {
     "ename": "NameError",
     "evalue": "name 'cur' is not defined",
     "output_type": "error",
     "traceback": [
      "\u001b[1;31m---------------------------------------------------------------------------\u001b[0m",
      "\u001b[1;31mNameError\u001b[0m                                 Traceback (most recent call last)",
      "Cell \u001b[1;32mIn[4], line 1\u001b[0m\n\u001b[1;32m----> 1\u001b[0m cur\u001b[38;5;241m.\u001b[39mexecute(\u001b[38;5;124m\"\u001b[39m\u001b[38;5;124mSELECT name, active, active_rounds, active_duration FROM events WHERE id = ?\u001b[39m\u001b[38;5;124m\"\u001b[39m, (\u001b[38;5;241m15\u001b[39m,))\n\u001b[0;32m      2\u001b[0m event \u001b[38;5;241m=\u001b[39m cur\u001b[38;5;241m.\u001b[39mfetchone()   \u001b[38;5;66;03m#Extracting an event for experiment. \u001b[39;00m\n\u001b[0;32m      4\u001b[0m \u001b[38;5;28;01mif\u001b[39;00m event:\n",
      "\u001b[1;31mNameError\u001b[0m: name 'cur' is not defined"
     ]
    }
   ],
   "source": [
    "cur.execute(\"SELECT name, active, active_rounds, active_duration FROM events WHERE id = ?\", (15,))\n",
    "event = cur.fetchone()   #Extracting an event for experiment. \n",
    "\n",
    "if event:\n",
    "    name, active, active_rounds, active_duration = event  #Now each of these elements of the variable are defined"
   ]
  },
  {
   "cell_type": "code",
   "execution_count": 1,
   "id": "fc47e719-37db-457c-9f10-aa0109671752",
   "metadata": {},
   "outputs": [
    {
     "ename": "NameError",
     "evalue": "name 'active' is not defined",
     "output_type": "error",
     "traceback": [
      "\u001b[1;31m---------------------------------------------------------------------------\u001b[0m",
      "\u001b[1;31mNameError\u001b[0m                                 Traceback (most recent call last)",
      "Cell \u001b[1;32mIn[1], line 2\u001b[0m\n\u001b[0;32m      1\u001b[0m \u001b[38;5;66;03m###Logic to determine if the user would undergo a penalty or not: \u001b[39;00m\n\u001b[1;32m----> 2\u001b[0m \u001b[38;5;28;01mif\u001b[39;00m active \u001b[38;5;241m==\u001b[39m \u001b[38;5;241m1\u001b[39m:   \u001b[38;5;66;03m#---> Active = 1 means capability is active and 0 means inactive.\u001b[39;00m\n\u001b[0;32m      3\u001b[0m     active_rounds \u001b[38;5;241m+\u001b[39m\u001b[38;5;241m=\u001b[39m \u001b[38;5;241m1\u001b[39m    \u001b[38;5;66;03m#When it's active we add 1 to the active_rounds and check if it triggered penalty in that stage compared to the active_duration(ideal).\u001b[39;00m\n\u001b[0;32m      4\u001b[0m     \u001b[38;5;28;01mif\u001b[39;00m active_rounds \u001b[38;5;241m>\u001b[39m\u001b[38;5;241m=\u001b[39m active_duration:     \u001b[38;5;66;03m####The main logic deciding the game consequence scenario.\u001b[39;00m\n",
      "\u001b[1;31mNameError\u001b[0m: name 'active' is not defined"
     ]
    }
   ],
   "source": [
    "###Logic to determine if the user would undergo a penalty or not: \n",
    "if active == 1:   #---> Active = 1 means capability is active and 0 means inactive.\n",
    "    active_rounds += 1    #When it's active we add 1 to the active_rounds and check if it triggered penalty in that stage compared to the active_duration(ideal).\n",
    "    if active_rounds >= active_duration:     ####The main logic deciding the game consequence scenario.\n",
    "        cur.execute(\"UPDATE events SET active = 0, in_penalty = 1, penalty_rounds = 0 WHERE active_rounds = ? AND id = ?\", (1, 15))\n",
    "        print(\"Super Speed has expired. A penalty has started.\")\n",
    "    else:\n",
    "        cur.execute(\"UPDATE events SET active_rounds = ? WHERE id = ?\", (1, 15))\n",
    "        print(\"Super Speed is still active. Round {active_rounds}/{active_duration}.\")\n",
    "         "
   ]
  },
  {
   "cell_type": "code",
   "execution_count": null,
   "id": "e424a135-dac5-4821-9b01-476d3fed93b0",
   "metadata": {},
   "outputs": [],
   "source": [
    "####Query no. 1: \n",
    "###### What power did the user with 'user_id = 11' deploy in his battle with opponent 'Robert'?\n",
    "cur.execute(\"CREATE INDEX IF NOT EXISTS idx_game_transaction_user_id_opponent ON game_transaction(user_id, opponent)\")\n",
    "conn.commit() #Indexing to make queries that are sorted by user_id and opponent efficient.\n",
    " \n",
    "\n",
    "cur.execute(\"SELECT * FROM game_transaction WHERE user_id = ? AND opponent = ?\", (11, 'Robert')) #Query run using AND statement.\n",
    "\n",
    "rows = cur.fetchall()\n",
    "for row in rows:\n",
    "    print(row)\n",
    "\n",
    "\n",
    "### The query above demonstrates that, the user with user_id = 11(Arefin) has used Super Speed in his battle with Robert."
   ]
  },
  {
   "cell_type": "code",
   "execution_count": 155,
   "id": "baeac262-4ee9-40dd-9dc4-6f9c68e2db39",
   "metadata": {},
   "outputs": [
    {
     "name": "stdout",
     "output_type": "stream",
     "text": [
      "('Super Strength is active. Over use results in -20 points from the health of user',)\n"
     ]
    }
   ],
   "source": [
    "########What is the consequence when user deploys 'super strength' in his fight against Francis?\n",
    "cur.execute(\"CREATE INDEX IF NOT EXISTS idx_game_transaction_power_deployed_opponent ON game_transaction(power_deployed, opponent)\")\n",
    "conn.commit() # indexing for faster query process.\n",
    "\n",
    "cur.execute(\"SELECT consequences FROM game_transaction WHERE power_deployed = ? AND opponent = ?\", (\"Super Strength\", \"Francis\"))\n",
    "\n",
    "rows = cur.fetchall()\n",
    "for row in rows:\n",
    "    print(row) # The consequence of 'Super Strength' is demonstrated. "
   ]
  },
  {
   "cell_type": "code",
   "execution_count": 225,
   "id": "5c35f83f-1152-4f20-b20f-54248e085863",
   "metadata": {},
   "outputs": [],
   "source": [
    "########CLI-driven interaction menu:\n",
    "def cli_menu():\n",
    "    gm = GameManager(conn, cur)\n",
    "\n",
    "    while True:\n",
    "        print(\" Welcome to Heartbound Challenge\")\n",
    "        print(\"1. Show Available Super Powers\")\n",
    "        print(\"2. Show consequences in game scenario\")\n",
    "        print(\"3. Exit\")\n",
    "        choice = input(\"Select an option: \")\n",
    "\n",
    "        if choice == \"1\":\n",
    "            gm.show_available_powers()\n",
    "        elif choice == \"2\":\n",
    "            print(\"Be aware of the consequences.\")\n",
    "        elif choice == \"3\":\n",
    "            print(\"Exiting game. Goodbye!\")\n",
    "            break\n",
    "        else:\n",
    "            print(\"Invalid input.\")"
   ]
  },
  {
   "cell_type": "code",
   "execution_count": 227,
   "id": "b124710d-cd55-49b3-ab47-bf0110802fa1",
   "metadata": {},
   "outputs": [
    {
     "name": "stdout",
     "output_type": "stream",
     "text": [
      " Welcome to Heartbound Challenge\n",
      "1. Show Available Super Powers\n",
      "2. Show consequences in game scenario\n",
      "3. Exit\n"
     ]
    },
    {
     "name": "stdin",
     "output_type": "stream",
     "text": [
      "Select an option:  2\n"
     ]
    },
    {
     "name": "stdout",
     "output_type": "stream",
     "text": [
      "Be aware of the consequences.\n",
      " Welcome to Heartbound Challenge\n",
      "1. Show Available Super Powers\n",
      "2. Show consequences in game scenario\n",
      "3. Exit\n"
     ]
    },
    {
     "name": "stdin",
     "output_type": "stream",
     "text": [
      "Select an option:  3\n"
     ]
    },
    {
     "name": "stdout",
     "output_type": "stream",
     "text": [
      "Exiting game. Goodbye!\n"
     ]
    }
   ],
   "source": [
    "cli_menu()"
   ]
  },
  {
   "cell_type": "code",
   "execution_count": null,
   "id": "51bc6947-f74e-463e-99bd-2c70bdda1d72",
   "metadata": {},
   "outputs": [],
   "source": []
  }
 ],
 "metadata": {
  "kernelspec": {
   "display_name": "Python [conda env:base] *",
   "language": "python",
   "name": "conda-base-py"
  },
  "language_info": {
   "codemirror_mode": {
    "name": "ipython",
    "version": 3
   },
   "file_extension": ".py",
   "mimetype": "text/x-python",
   "name": "python",
   "nbconvert_exporter": "python",
   "pygments_lexer": "ipython3",
   "version": "3.12.7"
  }
 },
 "nbformat": 4,
 "nbformat_minor": 5
}
